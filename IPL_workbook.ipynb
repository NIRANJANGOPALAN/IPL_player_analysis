{
 "cells": [
  {
   "cell_type": "markdown",
   "metadata": {},
   "source": [
    "Comprehensive Analysis of the Indian Premier League and Projecting the Optimal Squad for the 2025 Season"
   ]
  },
  {
   "cell_type": "code",
   "execution_count": 27,
   "metadata": {},
   "outputs": [
    {
     "name": "stderr",
     "output_type": "stream",
     "text": [
      "C:\\Users\\niran\\AppData\\Local\\Temp\\ipykernel_9280\\3160474569.py:3: DtypeWarning: Columns (1) have mixed types. Specify dtype option on import or set low_memory=False.\n",
      "  dataset = pd.read_csv(\"Dataset/IPL_Meta_Data.csv\")\n"
     ]
    }
   ],
   "source": [
    "# Load Dataset\n",
    "import pandas as pd\n",
    "dataset = pd.read_csv(\"Dataset/IPL_Meta_Data.csv\")\n",
    "df = dataset\n",
    "metadata = dataset\n",
    "# dataset.head()"
   ]
  },
  {
   "cell_type": "markdown",
   "metadata": {},
   "source": [
    "This dataset contains information about the IPL data, contains ball by ball data from 2008 to 2024. \n"
   ]
  },
  {
   "cell_type": "code",
   "execution_count": 6,
   "metadata": {},
   "outputs": [
    {
     "data": {
      "text/html": [
       "<div>\n",
       "<style scoped>\n",
       "    .dataframe tbody tr th:only-of-type {\n",
       "        vertical-align: middle;\n",
       "    }\n",
       "\n",
       "    .dataframe tbody tr th {\n",
       "        vertical-align: top;\n",
       "    }\n",
       "\n",
       "    .dataframe thead th {\n",
       "        text-align: right;\n",
       "    }\n",
       "</style>\n",
       "<table border=\"1\" class=\"dataframe\">\n",
       "  <thead>\n",
       "    <tr style=\"text-align: right;\">\n",
       "      <th></th>\n",
       "      <th>match_id</th>\n",
       "      <th>season</th>\n",
       "      <th>start_date</th>\n",
       "      <th>venue</th>\n",
       "      <th>innings</th>\n",
       "      <th>ball</th>\n",
       "      <th>batting_team</th>\n",
       "      <th>bowling_team</th>\n",
       "      <th>striker</th>\n",
       "      <th>non_striker</th>\n",
       "      <th>...</th>\n",
       "      <th>extras</th>\n",
       "      <th>wides</th>\n",
       "      <th>noballs</th>\n",
       "      <th>byes</th>\n",
       "      <th>legbyes</th>\n",
       "      <th>penalty</th>\n",
       "      <th>wicket_type</th>\n",
       "      <th>player_dismissed</th>\n",
       "      <th>other_wicket_type</th>\n",
       "      <th>other_player_dismissed</th>\n",
       "    </tr>\n",
       "  </thead>\n",
       "  <tbody>\n",
       "    <tr>\n",
       "      <th>0</th>\n",
       "      <td>1426312</td>\n",
       "      <td>2024</td>\n",
       "      <td>5/26/2024</td>\n",
       "      <td>MA Chidambaram Stadium, Chepauk, Chennai</td>\n",
       "      <td>1</td>\n",
       "      <td>0.1</td>\n",
       "      <td>Sunrisers Hyderabad</td>\n",
       "      <td>Kolkata Knight Riders</td>\n",
       "      <td>Abhishek Sharma</td>\n",
       "      <td>TM Head</td>\n",
       "      <td>...</td>\n",
       "      <td>0</td>\n",
       "      <td>NaN</td>\n",
       "      <td>NaN</td>\n",
       "      <td>NaN</td>\n",
       "      <td>NaN</td>\n",
       "      <td>NaN</td>\n",
       "      <td>NaN</td>\n",
       "      <td>NaN</td>\n",
       "      <td>NaN</td>\n",
       "      <td>NaN</td>\n",
       "    </tr>\n",
       "  </tbody>\n",
       "</table>\n",
       "<p>1 rows × 22 columns</p>\n",
       "</div>"
      ],
      "text/plain": [
       "   match_id season start_date                                     venue  \\\n",
       "0   1426312   2024  5/26/2024  MA Chidambaram Stadium, Chepauk, Chennai   \n",
       "\n",
       "   innings  ball         batting_team           bowling_team          striker  \\\n",
       "0        1   0.1  Sunrisers Hyderabad  Kolkata Knight Riders  Abhishek Sharma   \n",
       "\n",
       "  non_striker  ... extras  wides  noballs  byes  legbyes  penalty  \\\n",
       "0     TM Head  ...      0    NaN      NaN   NaN      NaN      NaN   \n",
       "\n",
       "   wicket_type  player_dismissed other_wicket_type other_player_dismissed  \n",
       "0          NaN               NaN               NaN                    NaN  \n",
       "\n",
       "[1 rows x 22 columns]"
      ]
     },
     "execution_count": 6,
     "metadata": {},
     "output_type": "execute_result"
    }
   ],
   "source": [
    "# This is the sample data\n",
    "dataset.head(1)"
   ]
  },
  {
   "cell_type": "markdown",
   "metadata": {},
   "source": [
    "We are cleaning the data and trying to create different tables namely:\n",
    "Player Table \n",
    "Batsman table,\n",
    "Bowlers table, \n",
    "Fielding table, \n",
    "matches table"
   ]
  },
  {
   "cell_type": "code",
   "execution_count": 8,
   "metadata": {},
   "outputs": [
    {
     "data": {
      "text/plain": [
       "match_id                    int64\n",
       "season                     object\n",
       "start_date                 object\n",
       "venue                      object\n",
       "innings                     int64\n",
       "ball                      float64\n",
       "batting_team               object\n",
       "bowling_team               object\n",
       "striker                    object\n",
       "non_striker                object\n",
       "bowler                     object\n",
       "runs_off_bat                int64\n",
       "extras                      int64\n",
       "wides                     float64\n",
       "noballs                   float64\n",
       "byes                      float64\n",
       "legbyes                   float64\n",
       "penalty                   float64\n",
       "wicket_type                object\n",
       "player_dismissed           object\n",
       "other_wicket_type         float64\n",
       "other_player_dismissed    float64\n",
       "dtype: object"
      ]
     },
     "execution_count": 8,
     "metadata": {},
     "output_type": "execute_result"
    }
   ],
   "source": [
    "# Column names and Data types \n",
    "dataset.dtypes"
   ]
  },
  {
   "cell_type": "markdown",
   "metadata": {},
   "source": [
    "1. Players Table: \n",
    "table name: player_info"
   ]
  },
  {
   "cell_type": "code",
   "execution_count": 40,
   "metadata": {},
   "outputs": [
    {
     "name": "stdout",
     "output_type": "stream",
     "text": [
      "           player                   seasons\n",
      "0  A Ashish Reddy  [2016, 2015, 2013, 2012]\n",
      "1        A Badoni        [2024, 2023, 2022]\n",
      "2      A Chandila              [2013, 2012]\n",
      "3        A Chopra           [2009, 2007/08]\n",
      "4     A Choudhary                    [2017]\n"
     ]
    }
   ],
   "source": [
    "# Combine 'striker' and 'non_striker' columns into a single list of unique players\n",
    "unique_players = pd.concat([dataset['striker'], dataset['non_striker'], dataset['bowler']]).drop_duplicates().sort_values()\n",
    "\n",
    "# Create an empty table with columns for player, seasons, and teams\n",
    "player_info = pd.DataFrame(columns=['player', 'seasons'])\n",
    "\n",
    "# For each player in the list of unique players\n",
    "for player in unique_players:\n",
    "    # Select rows from the data where the player is either the 'striker' or 'non_striker'\n",
    "    player_rows = dataset[(dataset['striker'] == player) | (dataset['non_striker'] == player) | (dataset['bowler'] == player)]\n",
    "\n",
    "    # Identify the unique seasons in which the player participated\n",
    "    seasons = player_rows['season'].unique()\n",
    "\n",
    "    # Add a new row to the table with the player's name, seasons, and teams\n",
    "    # player_info = player_info.append({'player': player, 'seasons': seasons, 'teams': teams}, ignore_index=True)\n",
    "        # Create a temporary DataFrame for the player's information\n",
    "    temp_df = pd.DataFrame({'player': [player], 'seasons': [seasons]})\n",
    "\n",
    "    # Concatenate the temporary DataFrame with the player_info DataFrame\n",
    "    player_info = pd.concat([player_info, temp_df], ignore_index=True)\n",
    "\n",
    "print(player_info.head())\n",
    "\n"
   ]
  },
  {
   "cell_type": "code",
   "execution_count": null,
   "metadata": {},
   "outputs": [],
   "source": []
  },
  {
   "cell_type": "code",
   "execution_count": null,
   "metadata": {},
   "outputs": [],
   "source": []
  },
  {
   "cell_type": "code",
   "execution_count": null,
   "metadata": {},
   "outputs": [],
   "source": []
  }
 ],
 "metadata": {
  "kernelspec": {
   "display_name": "Python 3",
   "language": "python",
   "name": "python3"
  },
  "language_info": {
   "codemirror_mode": {
    "name": "ipython",
    "version": 3
   },
   "file_extension": ".py",
   "mimetype": "text/x-python",
   "name": "python",
   "nbconvert_exporter": "python",
   "pygments_lexer": "ipython3",
   "version": "3.12.3"
  }
 },
 "nbformat": 4,
 "nbformat_minor": 2
}
