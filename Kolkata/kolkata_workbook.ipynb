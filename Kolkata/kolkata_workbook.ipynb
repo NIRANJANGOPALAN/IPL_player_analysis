{
 "cells": [
  {
   "cell_type": "markdown",
   "metadata": {},
   "source": [
    "Kolkata Knight Riders: Players analysis"
   ]
  },
  {
   "cell_type": "code",
   "execution_count": 2,
   "metadata": {},
   "outputs": [],
   "source": [
    "import pandas as pd\n",
    "from scipy import stats\n",
    "import seaborn as sns\n",
    "import matplotlib.pyplot as plt\n",
    "\n",
    "import lightgbm as lgb\n",
    "from sklearn.model_selection import train_test_split\n",
    "from sklearn.metrics import ndcg_score"
   ]
  },
  {
   "cell_type": "code",
   "execution_count": 34,
   "metadata": {},
   "outputs": [
    {
     "name": "stdout",
     "output_type": "stream",
     "text": [
      "    POS_x                Player  Runs_scored  Mathces_played  Inns_x   NO  \\\n",
      "0    45.0         Andre Russell        222.0            15.0     9.0  2.0   \n",
      "1    62.0  Angkrish Raghuvanshi        163.0            10.0     7.0  0.0   \n",
      "2   147.0            Anukul Roy          3.0             4.0     1.0  1.0   \n",
      "3     0.0          Harshit Rana          0.0             0.0     0.0  0.0   \n",
      "4    95.0         Manish Pandey         42.0             1.0     1.0  0.0   \n",
      "5   134.0        Mitchell Starc          9.0            14.0     5.0  3.0   \n",
      "6    97.0           Nitish Rana         42.0             2.0     2.0  0.0   \n",
      "7    14.0             Phil Salt        435.0            12.0    12.0  1.0   \n",
      "8    86.0    Rahmanullah Gurbaz         62.0             3.0     2.0  0.0   \n",
      "9    72.0       Ramandeep Singh        125.0            15.0     9.0  5.0   \n",
      "10   59.0           Rinku Singh        168.0            15.0    11.0  2.0   \n",
      "11   26.0          Shreyas Iyer        351.0            15.0    14.0  5.0   \n",
      "12    9.0          Sunil Narine        488.0            15.0    14.0  0.0   \n",
      "13  160.0         Vaibhav Arora          1.0            10.0     2.0  2.0   \n",
      "14    0.0   Varun Chakaravarthy          0.0             0.0     0.0  0.0   \n",
      "15   23.0        Venkatesh Iyer        370.0            15.0    13.0  5.0   \n",
      "\n",
      "       HS  Batting_avg  Ballsfaced  Batting_strikerate  ...  Matches_played  \\\n",
      "0    64.0        31.71       120.0              185.00  ...            15.0   \n",
      "1    54.0        23.29       105.0              155.23  ...             0.0   \n",
      "2     3.0         0.00         3.0              100.00  ...             0.0   \n",
      "3     0.0         0.00         0.0                0.00  ...            13.0   \n",
      "4    42.0        42.00        31.0              135.48  ...             0.0   \n",
      "5     6.0         4.50        11.0               81.81  ...            14.0   \n",
      "6    33.0        21.00        34.0              123.52  ...             0.0   \n",
      "7    89.0        39.55       239.0              182.00  ...             0.0   \n",
      "8    39.0        31.00        46.0              134.78  ...             0.0   \n",
      "9    35.0        31.25        62.0              201.61  ...             0.0   \n",
      "10   26.0        18.67       113.0              148.67  ...             0.0   \n",
      "11   58.0        39.00       239.0              146.86  ...             0.0   \n",
      "12  109.0        34.86       270.0              180.74  ...            15.0   \n",
      "13    1.0         0.00         1.0              100.00  ...            10.0   \n",
      "14    0.0         0.00         0.0                0.00  ...            15.0   \n",
      "15   70.0        46.25       233.0              158.79  ...             0.0   \n",
      "\n",
      "    Inns_y  Overs_bowled  Runs_given   BBI  Bowling_avg  Bowling_economy  \\\n",
      "0     14.0          29.2       295.0  19/3        15.52            10.05   \n",
      "1      0.0           0.0         0.0     0         0.00             0.00   \n",
      "2      0.0           0.0         0.0     0         0.00             0.00   \n",
      "3     11.0          42.1       383.0  24/3        20.15             9.08   \n",
      "4      0.0           0.0         0.0     0         0.00             0.00   \n",
      "5     13.0          41.5       444.0  33/4        26.11            10.61   \n",
      "6      0.0           0.0         0.0     0         0.00             0.00   \n",
      "7      0.0           0.0         0.0     0         0.00             0.00   \n",
      "8      0.0           0.0         0.0     0         0.00             0.00   \n",
      "9      0.0           0.0         0.0     0         0.00             0.00   \n",
      "10     0.0           0.0         0.0     0         0.00             0.00   \n",
      "11     0.0           0.0         0.0     0         0.00             0.00   \n",
      "12    14.0          55.0       368.0  22/2        21.64             6.69   \n",
      "13    10.0          30.0       276.0  27/3        25.09             9.20   \n",
      "14    14.0          50.0       402.0  16/3        19.14             8.04   \n",
      "15     0.0           0.0         0.0     0         0.00             0.00   \n",
      "\n",
      "    bowling_strikerate   4w   5w  \n",
      "0                 9.26  0.0  0.0  \n",
      "1                 0.00  0.0  0.0  \n",
      "2                 0.00  0.0  0.0  \n",
      "3                13.31  0.0  0.0  \n",
      "4                 0.00  0.0  0.0  \n",
      "5                14.76  1.0  0.0  \n",
      "6                 0.00  0.0  0.0  \n",
      "7                 0.00  0.0  0.0  \n",
      "8                 0.00  0.0  0.0  \n",
      "9                 0.00  0.0  0.0  \n",
      "10                0.00  0.0  0.0  \n",
      "11                0.00  0.0  0.0  \n",
      "12               19.41  0.0  0.0  \n",
      "13               16.36  0.0  0.0  \n",
      "14               14.28  0.0  0.0  \n",
      "15                0.00  0.0  0.0  \n",
      "\n",
      "[16 rows x 26 columns]\n"
     ]
    }
   ],
   "source": [
    "batting_2024 = pd.read_csv(\"kkr_batting_2024.csv\")\n",
    "bowling_2024 = pd.read_csv(\"kkr_bowling_2024.csv\")\n",
    "\n",
    "# Merge the DataFrames on the 'Player' column, using an outer join\n",
    "merged_2024 = pd.merge(batting_2024, bowling_2024, on='Player', how='outer')\n",
    "\n",
    "# Fill NaN values with 0\n",
    "merged_2024.fillna(0, inplace=True)\n",
    "\n",
    "# Display the merged DataFrame\n",
    "print(merged_2024)"
   ]
  },
  {
   "cell_type": "code",
   "execution_count": 4,
   "metadata": {},
   "outputs": [],
   "source": [
    "# merged_df.to_csv(\"kkr_data_2024.csv\")"
   ]
  },
  {
   "cell_type": "code",
   "execution_count": 5,
   "metadata": {},
   "outputs": [],
   "source": [
    "data = pd.read_csv(\"kkr_data_2024.csv\")"
   ]
  },
  {
   "cell_type": "code",
   "execution_count": 6,
   "metadata": {},
   "outputs": [
    {
     "name": "stdout",
     "output_type": "stream",
     "text": [
      "<class 'pandas.core.frame.DataFrame'>\n",
      "RangeIndex: 16 entries, 0 to 15\n",
      "Data columns (total 21 columns):\n",
      " #   Column              Non-Null Count  Dtype  \n",
      "---  ------              --------------  -----  \n",
      " 0   Unnamed: 0          16 non-null     int64  \n",
      " 1   Player              16 non-null     object \n",
      " 2   Runs_scored         16 non-null     int64  \n",
      " 3   Mathces_played      16 non-null     int64  \n",
      " 4   NO                  16 non-null     int64  \n",
      " 5   HS                  16 non-null     int64  \n",
      " 6   Batting_avg         16 non-null     float64\n",
      " 7   Ballsfaced          16 non-null     int64  \n",
      " 8   Batting_strikerate  16 non-null     float64\n",
      " 9   100                 16 non-null     int64  \n",
      " 10  50                  16 non-null     int64  \n",
      " 11  4s                  16 non-null     int64  \n",
      " 12  6s                  16 non-null     int64  \n",
      " 13  Wkts_taken          16 non-null     int64  \n",
      " 14  Overs_bowled        16 non-null     float64\n",
      " 15  Runs_given          16 non-null     int64  \n",
      " 16  Bowling_avg         16 non-null     float64\n",
      " 17  Bowling_economy     16 non-null     float64\n",
      " 18  bowling_strikerate  16 non-null     float64\n",
      " 19  4w                  16 non-null     int64  \n",
      " 20  5w                  16 non-null     int64  \n",
      "dtypes: float64(6), int64(14), object(1)\n",
      "memory usage: 2.8+ KB\n"
     ]
    }
   ],
   "source": [
    "data.info()"
   ]
  },
  {
   "cell_type": "code",
   "execution_count": 7,
   "metadata": {},
   "outputs": [],
   "source": [
    "# players taken atleast 1 wicket\n",
    "players_with_wickets = data[data['Wkts_taken'] >= 1]\n"
   ]
  },
  {
   "cell_type": "code",
   "execution_count": 8,
   "metadata": {},
   "outputs": [],
   "source": [
    "# Players scored atleast 100 runs\n",
    "players_with_runs = data[data['Runs_scored'] >= 1]"
   ]
  },
  {
   "cell_type": "code",
   "execution_count": 9,
   "metadata": {},
   "outputs": [
    {
     "name": "stdout",
     "output_type": "stream",
     "text": [
      "average runs scored 177.21428571428572\n",
      "average batting strikerate 145.32071428571427\n",
      "average wickets taken 17.333333333333332\n",
      "average bowling economy 8.944999999999999\n"
     ]
    }
   ],
   "source": [
    "print(\"average runs scored\",players_with_runs['Runs_scored'].mean())\n",
    "print(\"average batting strikerate\",players_with_runs['Batting_strikerate'].mean())\n",
    "print(\"average wickets taken\",players_with_wickets['Wkts_taken'].mean())\n",
    "print(\"average bowling economy\",players_with_wickets['Bowling_economy'].mean())"
   ]
  },
  {
   "cell_type": "code",
   "execution_count": 10,
   "metadata": {},
   "outputs": [],
   "source": [
    "# Correlation matrix\n",
    "cr = data[['Runs_scored','Mathces_played','Batting_avg',\n",
    "           'Batting_strikerate','Wkts_taken','Bowling_economy',\n",
    "           ]]"
   ]
  },
  {
   "cell_type": "code",
   "execution_count": 11,
   "metadata": {},
   "outputs": [
    {
     "name": "stdout",
     "output_type": "stream",
     "text": [
      "                    Runs_scored  Mathces_played  Batting_avg  \\\n",
      "Runs_scored            1.000000        0.546167     0.729182   \n",
      "Mathces_played         0.546167        1.000000     0.214070   \n",
      "Batting_avg            0.729182        0.214070     1.000000   \n",
      "Batting_strikerate     0.654063        0.362864     0.781647   \n",
      "Wkts_taken            -0.152718        0.198344    -0.484244   \n",
      "Bowling_economy       -0.235745        0.178935    -0.538005   \n",
      "\n",
      "                    Batting_strikerate  Wkts_taken  Bowling_economy  \n",
      "Runs_scored                   0.654063   -0.152718        -0.235745  \n",
      "Mathces_played                0.362864    0.198344         0.178935  \n",
      "Batting_avg                   0.781647   -0.484244        -0.538005  \n",
      "Batting_strikerate            1.000000   -0.520868        -0.483604  \n",
      "Wkts_taken                   -0.520868    1.000000         0.954445  \n",
      "Bowling_economy              -0.483604    0.954445         1.000000  \n"
     ]
    },
    {
     "data": {
      "image/png": "[encoded data removed]",
      "text/plain": [
       "<Figure size 1000x800 with 2 Axes>"
      ]
     },
     "metadata": {},
     "output_type": "display_data"
    }
   ],
   "source": [
    "correlation_matrix = cr.corr()\n",
    "\n",
    "# Print correlation matrix\n",
    "print(correlation_matrix)\n",
    "\n",
    "# Visualize correlation matrix\n",
    "plt.figure(figsize=(10, 8))\n",
    "sns.heatmap(correlation_matrix, annot=True, cmap='coolwarm', vmin=-1, vmax=1)\n",
    "plt.title('Correlation Heatmap of Numeric Columns')\n",
    "plt.show()"
   ]
  },
  {
   "cell_type": "code",
   "execution_count": 12,
   "metadata": {},
   "outputs": [],
   "source": [
    "df = data"
   ]
  },
  {
   "cell_type": "code",
   "execution_count": 13,
   "metadata": {},
   "outputs": [
    {
     "name": "stdout",
     "output_type": "stream",
     "text": [
      "                  Player    Player_type  Overall_score\n",
      "0          Andre Russell    All-rounder      61.345348\n",
      "1   Angkrish Raghuvanshi        Batsman      51.566239\n",
      "2             Anukul Roy  Other Players       0.000000\n",
      "3           Harshit Rana         Bowler      60.053858\n",
      "4          Manish Pandey  Other Players       0.000000\n",
      "5         Mitchell Starc         Bowler      48.571429\n",
      "6            Nitish Rana  Other Players       0.000000\n",
      "7              Phil Salt        Batsman      88.391782\n",
      "8     Rahmanullah Gurbaz  Other Players       0.000000\n",
      "9        Ramandeep Singh        Batsman      60.516172\n",
      "10           Rinku Singh        Batsman      48.003177\n",
      "11          Shreyas Iyer        Batsman      75.920872\n",
      "12          Sunil Narine    All-rounder      76.428165\n",
      "13         Vaibhav Arora         Bowler      36.744311\n",
      "14   Varun Chakaravarthy         Bowler      69.688973\n",
      "15        Venkatesh Iyer        Batsman      83.956161\n"
     ]
    }
   ],
   "source": [
    "# Normalize metrics\n",
    "for metric in ['Runs_scored', 'Batting_avg', 'Batting_strikerate', 'Wkts_taken']:\n",
    "    df[f'{metric}_norm'] = (df[metric] - df[metric].min()) / (df[metric].max() - df[metric].min())\n",
    "\n",
    "# Normalize economy rate (lower is better)\n",
    "df['Bowling_economy_norm'] = 1 - (df['Bowling_economy'] - df['Bowling_economy'].min()) / (df['Bowling_economy'].max() - df['Bowling_economy'].min())\n",
    "\n",
    "# Assign weights\n",
    "batting_weights = {\n",
    "    'Runs_scored_norm': 0.4,\n",
    "    'Batting_avg_norm': 0.3,\n",
    "    'Batting_strikerate_norm': 0.3\n",
    "}\n",
    "\n",
    "bowling_weights = {\n",
    "    'Wkts_taken_norm': 0.6,\n",
    "    'Bowling_economy_norm': 0.4\n",
    "}\n",
    "\n",
    "# Determine player type\n",
    "def determine_player_type(row):\n",
    "    if row['Runs_scored'] > 100 and row['Wkts_taken'] <= 2 and row['Ballsfaced'] > 40:\n",
    "        return 'Batsman'\n",
    "    elif row['Wkts_taken'] > 5 and row['Runs_scored'] < 100:\n",
    "        return 'Bowler'\n",
    "    elif row['Wkts_taken'] >= 3 and row['Runs_scored'] > 100:\n",
    "        return 'All-rounder'\n",
    "    return 'Other Players'\n",
    "\n",
    "df['Player_type'] = df.apply(determine_player_type, axis=1)\n",
    "\n",
    "# Calculate scores based on player type\n",
    "def calculate_score(row):\n",
    "    if row['Player_type'] == 'Batsman':\n",
    "        return (\n",
    "            row['Runs_scored_norm'] * batting_weights['Runs_scored_norm'] +\n",
    "            row['Batting_avg_norm'] * batting_weights['Batting_avg_norm'] +\n",
    "            row['Batting_strikerate_norm'] * batting_weights['Batting_strikerate_norm']\n",
    "        ) * 100\n",
    "    elif row['Player_type'] == 'Bowler':\n",
    "        return (\n",
    "            row['Wkts_taken_norm'] * bowling_weights['Wkts_taken_norm'] +\n",
    "            row['Bowling_economy_norm'] * bowling_weights['Bowling_economy_norm']\n",
    "        ) * 100\n",
    "    elif row['Player_type'] == 'All-rounder':\n",
    "        batting_score = (\n",
    "            row['Runs_scored_norm'] * batting_weights['Runs_scored_norm'] +\n",
    "            row['Batting_avg_norm'] * batting_weights['Batting_avg_norm'] +\n",
    "            row['Batting_strikerate_norm'] * batting_weights['Batting_strikerate_norm']\n",
    "        ) * 100\n",
    "        bowling_score = (\n",
    "            row['Wkts_taken_norm'] * bowling_weights['Wkts_taken_norm'] +\n",
    "            row['Bowling_economy_norm'] * bowling_weights['Bowling_economy_norm']\n",
    "        ) * 100\n",
    "        return (batting_score + bowling_score) / 2\n",
    "    return 0\n",
    "\n",
    "df['Overall_score'] = df.apply(calculate_score, axis=1)\n",
    "\n",
    "print(df[['Player', 'Player_type', 'Overall_score']])"
   ]
  },
  {
   "cell_type": "code",
   "execution_count": 14,
   "metadata": {},
   "outputs": [],
   "source": [
    "# df.to_csv(\"check.csv\")"
   ]
  },
  {
   "cell_type": "code",
   "execution_count": 15,
   "metadata": {},
   "outputs": [
    {
     "name": "stdout",
     "output_type": "stream",
     "text": [
      "Phil Salt, Overall Score: 88.3917817396278\n",
      "Venkatesh Iyer, Overall Score: 83.95616109986737\n",
      "Sunil Narine, Overall Score: 76.42816529147069\n",
      "Shreyas Iyer, Overall Score: 75.92087178496665\n",
      "Varun Chakaravarthy, Overall Score: 69.68897266729502\n",
      "Andre Russell, Overall Score: 61.345348244432685\n",
      "Ramandeep Singh, Overall Score: 60.516171909614535\n",
      "Harshit Rana, Overall Score: 60.053857546788734\n",
      "Angkrish Raghuvanshi, Overall Score: 51.56623938394726\n",
      "Mitchell Starc, Overall Score: 48.57142857142857\n",
      "Rinku Singh, Overall Score: 48.003176636318656\n",
      "Vaibhav Arora, Overall Score: 36.74431129662044\n",
      "Anukul Roy, Overall Score: 0.0\n",
      "Manish Pandey, Overall Score: 0.0\n",
      "Nitish Rana, Overall Score: 0.0\n",
      "Rahmanullah Gurbaz, Overall Score: 0.0\n"
     ]
    }
   ],
   "source": [
    "# Sort the DataFrame by 'Overall_score' in descending order\n",
    "sorted_df = df.sort_values(by=\"Overall_score\", ascending=False)\n",
    "\n",
    "# Display the player names and their overall scores\n",
    "for index, row in sorted_df.iterrows():\n",
    "    print(f\"{row['Player']}, Overall Score: {row['Overall_score']}\")"
   ]
  },
  {
   "cell_type": "markdown",
   "metadata": {},
   "source": [
    "Now take data of 2022,2023,2024 . combine all those data and give points to all players."
   ]
  },
  {
   "cell_type": "code",
   "execution_count": 20,
   "metadata": {},
   "outputs": [
    {
     "name": "stdout",
     "output_type": "stream",
     "text": [
      "    POS_x               Player Team_x  Runs_x  Mat_x  Inns_x   NO   HS  Avg_x  \\\n",
      "0    76.0          Aaron Finch    KKR    86.0    5.0     5.0  0.0   58  17.20   \n",
      "1   149.0       Abhijeet Tomar    KKR     4.0    1.0     1.0  0.0    4   4.00   \n",
      "2    65.0       Ajinkya Rahane    KKR   133.0    7.0     7.0  0.0   44  19.00   \n",
      "3   141.0            Aman Khan    KKR     5.0    1.0     1.0  0.0    5   5.00   \n",
      "4    24.0        Andre Russell    KKR   335.0   14.0    12.0  3.0  70*  37.22   \n",
      "5     0.0           Anukul Roy      0     0.0    0.0     0.0  0.0    0      0   \n",
      "6   115.0          B Indrajith    KKR    21.0    3.0     3.0  0.0   15   7.00   \n",
      "7   154.0         Harshit Rana    KKR     2.0    2.0     2.0  1.0    2   2.00   \n",
      "8    21.0          Nitish Rana    KKR   361.0   14.0    14.0  1.0   57  27.77   \n",
      "9    82.0          Pat Cummins    KKR    63.0    5.0     5.0  1.0  56*  15.75   \n",
      "10  134.0         Rasikh Salam    KKR     7.0    2.0     1.0  0.0    7   7.00   \n",
      "11   56.0          Rinku Singh    KKR   174.0    7.0     7.0  2.0  42*  34.80   \n",
      "12   57.0         Sam Billings    KKR   169.0    8.0     8.0  1.0   36  24.14   \n",
      "13  109.0      Sheldon Jackson    KKR    23.0    5.0     5.0  1.0    8   5.75   \n",
      "14  153.0          Shivam Mavi    KKR     3.0    6.0     3.0  1.0    2   1.50   \n",
      "15   16.0         Shreyas Iyer    KKR   401.0   14.0    14.0  1.0   85  30.85   \n",
      "16   79.0         Sunil Narine    KKR    71.0   14.0    10.0  2.0   22   8.88   \n",
      "17  160.0          Tim Southee    KKR     2.0    9.0     5.0  1.0   1*   0.50   \n",
      "18   86.0          Umesh Yadav    KKR    55.0   12.0     7.0  3.0   21  13.75   \n",
      "19  125.0  Varun Chakaravarthy    KKR    12.0   11.0     4.0  4.0  10*      -   \n",
      "20   55.0       Venkatesh Iyer    KKR   182.0   12.0    12.0  1.0  50*  16.55   \n",
      "\n",
      "       BF  ...  Mat_y  Inns_y    Ov  Runs_y   BBI  Avg_y   Econ   SR_y   4w  \\\n",
      "0    61.0  ...    0.0     0.0   0.0     0.0     0   0.00   0.00   0.00  0.0   \n",
      "1     8.0  ...    0.0     0.0   0.0     0.0     0   0.00   0.00   0.00  0.0   \n",
      "2   128.0  ...    0.0     0.0   0.0     0.0     0   0.00   0.00   0.00  0.0   \n",
      "3     3.0  ...    0.0     0.0   0.0     0.0     0   0.00   0.00   0.00  0.0   \n",
      "4   192.0  ...   14.0    13.0  28.1   278.0   5/4  16.35   9.86   9.94  1.0   \n",
      "5     0.0  ...    2.0     2.0   7.0    55.0  28/1  55.00   7.85  42.00  0.0   \n",
      "6    30.0  ...    0.0     0.0   0.0     0.0     0   0.00   0.00   0.00  0.0   \n",
      "7     2.0  ...    2.0     2.0   5.0    51.0  24/1  51.00  10.20  30.00  0.0   \n",
      "8   251.0  ...    0.0     0.0   0.0     0.0     0   0.00   0.00   0.00  0.0   \n",
      "9    24.0  ...    5.0     5.0  19.5   212.0  22/3  30.28  10.68  17.00  0.0   \n",
      "10    6.0  ...    0.0     0.0   0.0     0.0     0   0.00   0.00   0.00  0.0   \n",
      "11  117.0  ...    0.0     0.0   0.0     0.0     0   0.00   0.00   0.00  0.0   \n",
      "12  138.0  ...    0.0     0.0   0.0     0.0     0   0.00   0.00   0.00  0.0   \n",
      "13   26.0  ...    0.0     0.0   0.0     0.0     0   0.00   0.00   0.00  0.0   \n",
      "14    7.0  ...    6.0     6.0  22.0   227.0  33/1  45.40  10.31  26.40  0.0   \n",
      "15  298.0  ...    0.0     0.0   0.0     0.0     0   0.00   0.00   0.00  0.0   \n",
      "16   40.0  ...   14.0    14.0  56.0   312.0  21/2  34.66   5.57  37.33  0.0   \n",
      "17   12.0  ...    9.0     9.0  35.0   275.0  20/3  19.64   7.85  15.00  0.0   \n",
      "18   40.0  ...   12.0    12.0  48.0   339.0  23/4  21.18   7.06  18.00  1.0   \n",
      "19   18.0  ...   11.0    11.0  39.0   332.0  22/1  55.33   8.51  39.00  0.0   \n",
      "20  169.0  ...    0.0     0.0   0.0     0.0     0   0.00   0.00   0.00  0.0   \n",
      "\n",
      "     5w  \n",
      "0   0.0  \n",
      "1   0.0  \n",
      "2   0.0  \n",
      "3   0.0  \n",
      "4   0.0  \n",
      "5   0.0  \n",
      "6   0.0  \n",
      "7   0.0  \n",
      "8   0.0  \n",
      "9   0.0  \n",
      "10  0.0  \n",
      "11  0.0  \n",
      "12  0.0  \n",
      "13  0.0  \n",
      "14  0.0  \n",
      "15  0.0  \n",
      "16  0.0  \n",
      "17  0.0  \n",
      "18  0.0  \n",
      "19  0.0  \n",
      "20  0.0  \n",
      "\n",
      "[21 rows x 28 columns]\n"
     ]
    }
   ],
   "source": [
    "# 2022 data combine\n",
    "\n",
    "batting_2022 = pd.read_csv(\"kkr_batting_2022.csv\")\n",
    "bowling_2022 = pd.read_csv(\"kkr_bowling_2022.csv\")\n",
    "\n",
    "# Merge the DataFrames on the 'Player' column, using an outer join\n",
    "merged_2022 = pd.merge(batting_2022, bowling_2022, on='Player', how='outer')\n",
    "\n",
    "# Fill NaN values with 0\n",
    "merged_2022.fillna(0, inplace=True)\n",
    "\n",
    "# Display the merged DataFrame\n",
    "print(merged_2022)"
   ]
  },
  {
   "cell_type": "code",
   "execution_count": 21,
   "metadata": {},
   "outputs": [],
   "source": [
    "# merged_2022.to_csv(\"check_2022.csv\")"
   ]
  },
  {
   "cell_type": "code",
   "execution_count": 24,
   "metadata": {},
   "outputs": [
    {
     "name": "stdout",
     "output_type": "stream",
     "text": [
      "    POS_x               Player Team_x  Runs_x  Mat_x  Inns_x   NO   HS  Avg_x  \\\n",
      "0    46.0        Andre Russell    KKR   227.0   14.0    14.0  3.0   42  20.64   \n",
      "1   106.0           Anukul Roy    KKR    23.0    4.0     4.0  2.0  13*  11.50   \n",
      "2   109.0          David Wiese    KKR    21.0    3.0     3.0  2.0  12*  21.00   \n",
      "3     0.0         Harshit Rana      0     0.0    0.0     0.0  0.0    0      0   \n",
      "4    76.0   Jagadeesan Narayan    KKR    89.0    6.0     6.0  0.0   36  14.83   \n",
      "5    33.0            Jason Roy    KKR   285.0    8.0     8.0  0.0   61  35.63   \n",
      "6     0.0   Kulwant Khejroliya      0     0.0    0.0     0.0  0.0    0      0   \n",
      "7   146.0           Litton Das    KKR     4.0    1.0     1.0  0.0    4   4.00   \n",
      "8     0.0      Lockie Ferguson      0     0.0    0.0     0.0  0.0    0      0   \n",
      "9   125.0        Mandeep Singh    KKR    14.0    3.0     3.0  0.0   12   4.67   \n",
      "10   14.0          Nitish Rana    KKR   413.0   14.0    14.0  1.0   75  31.77   \n",
      "11   47.0   Rahmanullah Gurbaz    KKR   227.0   11.0    11.0  0.0   81  20.64   \n",
      "12    9.0          Rinku Singh    KKR   474.0   14.0    14.0  6.0  67*  59.25   \n",
      "13   69.0       Shardul Thakur    KKR   113.0   11.0    10.0  2.0   68  14.13   \n",
      "14  111.0         Sunil Narine    KKR    21.0   14.0    10.0  3.0   7*   3.00   \n",
      "15    0.0        Suyash Sharma      0     0.0    0.0     0.0  0.0    0      0   \n",
      "16    0.0          Tim Southee      0     0.0    0.0     0.0  0.0    0      0   \n",
      "17  115.0          Umesh Yadav    KKR    19.0    8.0     5.0  3.0   6*   9.50   \n",
      "18  149.0        Vaibhav Arora    KKR     3.0    5.0     2.0  2.0   2*      -   \n",
      "19  166.0  Varun Chakaravarthy    KKR     1.0   14.0     2.0  1.0    1   1.00   \n",
      "20   16.0       Venkatesh Iyer    KKR   404.0   14.0    14.0  0.0  104  28.86   \n",
      "\n",
      "       BF  ...  Mat_y  Inns_y    Ov  Runs_y   BBI   Avg_y   Econ    SR_y   4w  \\\n",
      "0   156.0  ...   14.0     9.0  15.1   172.0  22/3   24.57  11.34   13.00  0.0   \n",
      "1    19.0  ...    4.0     3.0   8.0    65.0  19/2   21.66   8.12   16.00  0.0   \n",
      "2    11.0  ...    0.0     0.0   0.0     0.0     0    0.00   0.00    0.00  0.0   \n",
      "3     0.0  ...    6.0     6.0  17.0   147.0  33/2   29.40   8.64   20.40  0.0   \n",
      "4    81.0  ...    0.0     0.0   0.0     0.0     0    0.00   0.00    0.00  0.0   \n",
      "5   188.0  ...    0.0     0.0   0.0     0.0     0    0.00   0.00    0.00  0.0   \n",
      "6     0.0  ...    2.0     2.0   4.2    64.0  44/2   32.00  14.76   13.00  0.0   \n",
      "7     4.0  ...    0.0     0.0   0.0     0.0     0    0.00   0.00    0.00  0.0   \n",
      "8     0.0  ...    3.0     3.0   7.4    96.0  19/1   96.00  12.52   46.00  0.0   \n",
      "9    16.0  ...    0.0     0.0   0.0     0.0     0    0.00   0.00    0.00  0.0   \n",
      "10  293.0  ...   14.0     6.0   8.5    75.0  17/2   25.00   8.49   17.66  0.0   \n",
      "11  170.0  ...    0.0     0.0   0.0     0.0     0    0.00   0.00    0.00  0.0   \n",
      "12  317.0  ...    0.0     0.0   0.0     0.0     0    0.00   0.00    0.00  0.0   \n",
      "13   70.0  ...   11.0     9.0  21.0   220.0  23/2   31.42  10.47   18.00  0.0   \n",
      "14   25.0  ...   14.0    14.0  48.0   383.0  33/3   34.81   7.97   26.18  0.0   \n",
      "15    0.0  ...   11.0    11.0  39.0   321.0  30/3   32.10   8.23   23.40  0.0   \n",
      "16    0.0  ...    2.0     2.0   6.0    79.0  54/2   39.50  13.16   18.00  0.0   \n",
      "17   18.0  ...    8.0     8.0  19.0   189.0  27/1  189.00   9.94  114.00  0.0   \n",
      "18    2.0  ...    5.0     5.0  16.0   146.0  30/2   29.20   9.12   19.20  0.0   \n",
      "19    9.0  ...   14.0    14.0  52.4   429.0  15/4   21.45   8.14   15.80  1.0   \n",
      "20  277.0  ...    0.0     0.0   0.0     0.0     0    0.00   0.00    0.00  0.0   \n",
      "\n",
      "     5w  \n",
      "0   0.0  \n",
      "1   0.0  \n",
      "2   0.0  \n",
      "3   0.0  \n",
      "4   0.0  \n",
      "5   0.0  \n",
      "6   0.0  \n",
      "7   0.0  \n",
      "8   0.0  \n",
      "9   0.0  \n",
      "10  0.0  \n",
      "11  0.0  \n",
      "12  0.0  \n",
      "13  0.0  \n",
      "14  0.0  \n",
      "15  0.0  \n",
      "16  0.0  \n",
      "17  0.0  \n",
      "18  0.0  \n",
      "19  0.0  \n",
      "20  0.0  \n",
      "\n",
      "[21 rows x 28 columns]\n"
     ]
    }
   ],
   "source": [
    "# 2023 data combine\n",
    "\n",
    "batting_2023 = pd.read_csv(\"kkr_batting_2023.csv\")\n",
    "bowling_2023 = pd.read_csv(\"kkr_bowling_2023.csv\")\n",
    "\n",
    "# Merge the DataFrames on the 'Player' column, using an outer join\n",
    "merged_2023 = pd.merge(batting_2023, bowling_2023, on='Player', how='outer')\n",
    "\n",
    "# Fill NaN values with 0\n",
    "merged_2023.fillna(0, inplace=True)\n",
    "\n",
    "# Display the merged DataFrame\n",
    "print(merged_2023)"
   ]
  },
  {
   "cell_type": "code",
   "execution_count": 40,
   "metadata": {},
   "outputs": [],
   "source": [
    "# Checking and correcting data\n",
    "# merged_2022.to_csv(\"check_2022.csv\")"
   ]
  },
  {
   "cell_type": "code",
   "execution_count": 47,
   "metadata": {},
   "outputs": [],
   "source": [
    "# here the matched played are in duplicaqtes , removing duplicates\n",
    "# Create the new column\n",
    "data_2024 = pd.read_csv(\"cleaned_2024.csv\")\n",
    "\n",
    "data_2024['Matches_in_2024'] = data_2024[['Mathces_played_2024_bt', 'Matches_played_2024_bb']].max(axis=1)\n",
    "\n",
    "# Optionally drop the old columns\n",
    "data_2024.drop(['Mathces_played_2024_bt', 'Matches_played_2024_bb'], axis=1, inplace=True)\n",
    "\n"
   ]
  },
  {
   "cell_type": "code",
   "execution_count": 35,
   "metadata": {},
   "outputs": [],
   "source": [
    "# Merge all 3 years dataframes\n",
    "# Merge the DataFrames on the 'Player' column, using an outer join\n",
    "merged_23_22 = pd.merge(merged_2023,merged_2022, on='Player', how='outer')"
   ]
  },
  {
   "cell_type": "code",
   "execution_count": 36,
   "metadata": {},
   "outputs": [],
   "source": [
    "merged_df = pd.merge(merged_23_22,merged_2024, on='Player', how='outer')"
   ]
  },
  {
   "cell_type": "code",
   "execution_count": 37,
   "metadata": {},
   "outputs": [],
   "source": [
    "# Fill NaN values with 0\n",
    "merged_df.fillna(0, inplace=True)"
   ]
  },
  {
   "cell_type": "code",
   "execution_count": 33,
   "metadata": {},
   "outputs": [],
   "source": [
    "# merged_df.to_csv(\"check_all.csv\")"
   ]
  },
  {
   "cell_type": "code",
   "execution_count": null,
   "metadata": {},
   "outputs": [],
   "source": []
  }
 ],
 "metadata": {
  "kernelspec": {
   "display_name": "Python 3",
   "language": "python",
   "name": "python3"
  },
  "language_info": {
   "codemirror_mode": {
    "name": "ipython",
    "version": 3
   },
   "file_extension": ".py",
   "mimetype": "text/x-python",
   "name": "python",
   "nbconvert_exporter": "python",
   "pygments_lexer": "ipython3",
   "version": "3.12.3"
  }
 },
 "nbformat": 4,
 "nbformat_minor": 2
}
